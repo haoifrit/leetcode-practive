{
 "cells": [
  {
   "cell_type": "code",
   "execution_count": 1,
   "metadata": {},
   "outputs": [],
   "source": [
    "import math"
   ]
  },
  {
   "cell_type": "code",
   "execution_count": 2,
   "metadata": {},
   "outputs": [
    {
     "name": "stdout",
     "output_type": "stream",
     "text": [
      "[0, 1]\n"
     ]
    }
   ],
   "source": [
    "### 01\n",
    "class Solution(object):\n",
    "    def twoSum(self, nums, target):\n",
    "        \"\"\"\n",
    "        :type nums: List[int]\n",
    "        :type target: int\n",
    "        :rtype: List[int]\n",
    "        \"\"\"\n",
    "        for i in range(len(nums) - 1):\n",
    "            for k in range(i + 1, len(nums)):\n",
    "                if nums[i] + nums[k] == target:\n",
    "                    return [i, k]\n",
    "\n",
    "solution = Solution()\n",
    "print(solution.twoSum([2,7,11,15], 9))"
   ]
  },
  {
   "cell_type": "code",
   "execution_count": 3,
   "metadata": {},
   "outputs": [
    {
     "name": "stdout",
     "output_type": "stream",
     "text": [
      "1\n"
     ]
    }
   ],
   "source": [
    "### 03\n",
    "class Solution(object):\n",
    "    def lengthOfLongestSubstring(self, s):\n",
    "        \"\"\"\n",
    "        :type s: str\n",
    "        :rtype: int\n",
    "        \"\"\"\n",
    "        char_list = []\n",
    "        max_num = 0\n",
    "        for i in range(len(s)):\n",
    "            for c in s[i:]:\n",
    "                if c not in char_list:\n",
    "                    char_list.append(c)\n",
    "                else:\n",
    "                    print(c, char_list)\n",
    "                    if len(char_list) > max_num:\n",
    "                        max_num = len(char_list)\n",
    "                    char_list = [] \n",
    "                    break\n",
    "            if len(char_list) > max_num:\n",
    "                max_num = len(char_list)\n",
    "            char_list = [] \n",
    "        return max_num\n",
    "\n",
    "solution = Solution()\n",
    "print(solution.lengthOfLongestSubstring(\" \"))"
   ]
  },
  {
   "cell_type": "code",
   "execution_count": 4,
   "metadata": {},
   "outputs": [
    {
     "name": "stdout",
     "output_type": "stream",
     "text": [
      "2.5\n"
     ]
    }
   ],
   "source": [
    "### 04\n",
    "class Solution(object):\n",
    "    def findMedianSortedArrays(self, nums1, nums2):\n",
    "        \"\"\"\n",
    "        :type nums1: List[int]\n",
    "        :type nums2: List[int]\n",
    "        :rtype: float\n",
    "        \"\"\"\n",
    "        \n",
    "        nums1.extend(nums2)\n",
    "        nums1.sort()\n",
    "        if len(nums1) == 0:\n",
    "            return 0\n",
    "        elif len(nums1) % 2 == 1:\n",
    "            return nums1[int((len(nums1) - 1) / 2)]\n",
    "        else:\n",
    "            k = int(len(nums1) / 2)\n",
    "            i = k -1\n",
    "            return (nums1[i] + nums1[k]) / 2.0\n",
    "solution = Solution()\n",
    "print(solution.findMedianSortedArrays([1,2], [3, 4]))"
   ]
  },
  {
   "cell_type": "code",
   "execution_count": 5,
   "metadata": {},
   "outputs": [
    {
     "name": "stdout",
     "output_type": "stream",
     "text": [
      "wxqxw\n"
     ]
    }
   ],
   "source": [
    "### 5. Longest Palindromic Substring\n",
    "class Solution:\n",
    "    def checkStrings(self, s: str) -> str:\n",
    "\n",
    "        for i in range(int(len(s) / 2)):\n",
    "            # print(i, s[i], s[-(i + 1)])\n",
    "            if s[i] != s[-(i + 1)]:\n",
    "                return False\n",
    "        return True\n",
    "    \n",
    "    def longestPalindrome(self, s: str) -> str:\n",
    "        max_len = 0\n",
    "        max_substr = \"\"\n",
    "        \n",
    "        if len(s) <= 1:\n",
    "            return s\n",
    "        \n",
    "        def loopString(max_len, max_substr):\n",
    "            for i in range(len(s) - 1):\n",
    "                for k in range(len(s) - 1, i, -1):\n",
    "\n",
    "                    if max_len > (len(s) - i + 1):\n",
    "                        return max_substr\n",
    "                    if s[i] == s[k]:\n",
    "                        substr = s[i: k + 1]\n",
    "\n",
    "                        if not self.checkStrings(substr):\n",
    "                            continue\n",
    "                        else:\n",
    "                            if max_len < len(substr):\n",
    "                                max_len = len(substr)\n",
    "                                max_substr = substr\n",
    "                            break\n",
    "            return max_substr\n",
    "        max_substr = loopString(max_len, max_substr)\n",
    "        if len(max_substr) == 0:\n",
    "            return s[0]\n",
    "        return max_substr\n",
    "\n",
    "solution = Solution()\n",
    "print(solution.longestPalindrome(\"crbidxnkyieminyzchamldzjzglygkfbbyggagwdqdqamzpguppqjfrcewfduwvcmhliahovcwoupwxwhaoiiiguahuqxiqndwxqxweppcbeoasgtucyqlxnxpvtepwretywgjigjjuxsrbwucatffkrqyfkesakglyhpmtewfknevopxljgcttoqonxpdtzbccpyvttuaisrhdauyjyxgquinvqvfvzgusyxuqkyoklwslljbimbgznpvkdxmakqwwveqrpoiabmiegoyzuyoignfcgmqxvpcmldivknulqbpyxjuvyhrzcsgiusdhsogftokekbdynmksyebsnzbxjxfvwamccphzzlzuvotvubqvhmusdtwvlsnbqwqhqcigmlfoupnqcxdyflpgodnoqaqfekhcyxythaiqxzkahfnblyiznlqkbithmhhytzpcbkwicstapygjpjzvrjcombyrmhcusqtslzdyiiyvujnrxvkrwffwxtmdqqrawtvayiskcnpyociwkeopardpjeyuymipekbefbdfuybfvgzfkjtvurfkopatvusticwbtxdtfifgklpmjamiocalcocqwdivyulupammxhdbeazrrktxiyothnvbwwrsocxzxaxmoenigbhvxffddexrwsioqoyovaqvtmkwzupstkgkmvrddzolmuzjnsj\"))\n"
   ]
  },
  {
   "cell_type": "code",
   "execution_count": 6,
   "metadata": {},
   "outputs": [
    {
     "name": "stdout",
     "output_type": "stream",
     "text": [
      "wxqxw\n"
     ]
    }
   ],
   "source": [
    "### 5. Longest Palindromic Substring\n",
    "class Solution:    \n",
    "    def longestPalindrome(self, s: str) -> str:\n",
    "        length = len(s)\n",
    "        res = s[0]\n",
    "        \n",
    "        for i in range(1, length):\n",
    "            mid = i\n",
    "            left = i - 1\n",
    "            while left >=0 and mid < length and s[left] == s[mid]:\n",
    "                left -= 1\n",
    "                mid += 1\n",
    "            res = max(res, s[left+1: mid], key=lambda x: len(x))\n",
    "            \n",
    "            left = i - 1\n",
    "            right = i + 1\n",
    "            while left >= 0 and right < length and s[left] == s[right]:\n",
    "                left -= 1\n",
    "                right += 1\n",
    "            res = max(res, s[left+1: right], key=lambda x: len(x))\n",
    "        \n",
    "        return res\n",
    "            \n",
    "\n",
    "solution = Solution()\n",
    "print(solution.longestPalindrome(\"crbidxnkyieminyzchamldzjzglygkfbbyggagwdqdqamzpguppqjfrcewfduwvcmhliahovcwoupwxwhaoiiiguahuqxiqndwxqxweppcbeoasgtucyqlxnxpvtepwretywgjigjjuxsrbwucatffkrqyfkesakglyhpmtewfknevopxljgcttoqonxpdtzbccpyvttuaisrhdauyjyxgquinvqvfvzgusyxuqkyoklwslljbimbgznpvkdxmakqwwveqrpoiabmiegoyzuyoignfcgmqxvpcmldivknulqbpyxjuvyhrzcsgiusdhsogftokekbdynmksyebsnzbxjxfvwamccphzzlzuvotvubqvhmusdtwvlsnbqwqhqcigmlfoupnqcxdyflpgodnoqaqfekhcyxythaiqxzkahfnblyiznlqkbithmhhytzpcbkwicstapygjpjzvrjcombyrmhcusqtslzdyiiyvujnrxvkrwffwxtmdqqrawtvayiskcnpyociwkeopardpjeyuymipekbefbdfuybfvgzfkjtvurfkopatvusticwbtxdtfifgklpmjamiocalcocqwdivyulupammxhdbeazrrktxiyothnvbwwrsocxzxaxmoenigbhvxffddexrwsioqoyovaqvtmkwzupstkgkmvrddzolmuzjnsj\"))\n"
   ]
  },
  {
   "cell_type": "code",
   "execution_count": 7,
   "metadata": {},
   "outputs": [
    {
     "name": "stdout",
     "output_type": "stream",
     "text": [
      "a\n"
     ]
    }
   ],
   "source": [
    "### 214. Shortest Palindrome\n",
    "class Solution:\n",
    "    def shortestPalindrome(self, s: str) -> str:\n",
    "        s_list = list(s)\n",
    "        reve_list = list(reversed(s_list))\n",
    "        \n",
    "        res = \"\"\n",
    "        if s_list == list(reversed(s_list)):\n",
    "            res = \"\".join(s_list)\n",
    "            return res\n",
    "        \n",
    "        for i, c in enumerate(reve_list):\n",
    "            s_list.insert(i, c)\n",
    "            if s_list == list(reversed(s_list)):\n",
    "                res = \"\".join(s_list)\n",
    "                break\n",
    "\n",
    "        return res\n",
    "            \n",
    "        \n",
    "        \n",
    "\n",
    "solution = Solution()\n",
    "print(solution.shortestPalindrome(\"a\"))\n"
   ]
  },
  {
   "cell_type": "code",
   "execution_count": 8,
   "metadata": {},
   "outputs": [
    {
     "name": "stdout",
     "output_type": "stream",
     "text": [
      "PAHNAPLSIIGYIR\n"
     ]
    }
   ],
   "source": [
    "### 6. ZigZag Conversion\n",
    "class Solution:\n",
    "    def convert(self, s: str, numRows: int) -> str:\n",
    "        if len(s) <= numRows or numRows == 1:\n",
    "            return s\n",
    "        \n",
    "        datas = [[] for _ in range(numRows)]\n",
    "\n",
    "        row = 0\n",
    "        index = 0\n",
    "        factor = 1\n",
    "        \n",
    "        while index < len(s):\n",
    "            if row == numRows:\n",
    "                row -= 2\n",
    "                factor = -1\n",
    "            elif row == -1:\n",
    "                row += 2\n",
    "                factor = 1\n",
    "            \n",
    "            datas[row].append(s[index])\n",
    "            \n",
    "            index += 1\n",
    "            row += factor\n",
    "        \n",
    "        res = \"\".join(c for d in datas for c in d)\n",
    "        return res\n",
    "\n",
    "\n",
    "solution = Solution()\n",
    "print(solution.convert(\"PAYPALISHIRING\", 3))"
   ]
  },
  {
   "cell_type": "code",
   "execution_count": 9,
   "metadata": {},
   "outputs": [
    {
     "name": "stdout",
     "output_type": "stream",
     "text": [
      "0\n"
     ]
    }
   ],
   "source": [
    "### 7. Reverse Integer\n",
    "class Solution:\n",
    "    def reverse(self, x: int) -> int:\n",
    "        flag = \"\"\n",
    "        x_str = str(x)\n",
    "        if x < 0:\n",
    "            flag = \"-\"\n",
    "            x_str = x_str[1:]\n",
    "\n",
    "        x_str_list = list(x_str)\n",
    "        x_str_list.reverse()\n",
    "        x_str_reverse = \"\".join(x_str_list)\n",
    "        if x_str_reverse >= \"2147483648\":\n",
    "            return 0\n",
    "        \n",
    "        return int(flag + x_str_reverse)\n",
    "\n",
    "solution = Solution()\n",
    "print(solution.reverse(-12345))"
   ]
  },
  {
   "cell_type": "code",
   "execution_count": 10,
   "metadata": {},
   "outputs": [
    {
     "name": "stdout",
     "output_type": "stream",
     "text": [
      "-12\n"
     ]
    }
   ],
   "source": [
    "### 8. String to Integer (atoi)\n",
    "\n",
    "class Solution:\n",
    "    def myAtoi(self, s: str) -> int:\n",
    "        ns = s.lstrip()\n",
    "        if ns == \"\": return 0\n",
    "        \n",
    "        flag = \"\"\n",
    "        num_list = [\"0\", \"1\", \"2\", \"3\", \"4\", \"5\", \"6\", \"7\", \"8\", \"9\"]\n",
    "        nums_list = [\"+\", \"-\", \"0\", \"1\", \"2\", \"3\", \"4\", \"5\", \"6\", \"7\", \"8\", \"9\"]\n",
    "        if ns[0] not in nums_list:\n",
    "            return 0\n",
    "        elif ns[0] == \"-\":\n",
    "            flag = \"-\"\n",
    "            ns = ns[1:]\n",
    "        elif ns[0] == \"+\":\n",
    "            ns = ns[1:]\n",
    "        \n",
    "        res_str = \"\"\n",
    "        for c in ns:\n",
    "            if c not in num_list:\n",
    "                break\n",
    "            res_str += c\n",
    "        \n",
    "        if res_str == \"\":\n",
    "            return 0\n",
    "        \n",
    "        res_str = flag + res_str\n",
    "        res = int(res_str)\n",
    "        if res < -2147483648:\n",
    "            return -2147483648\n",
    "        elif res >= 2147483648:\n",
    "            return 2147483647\n",
    "        else:\n",
    "            return res\n",
    "        \n",
    "        \n",
    "\n",
    "    \n",
    "\n",
    "solution = Solution()\n",
    "print(solution.myAtoi(\"    -12\"))"
   ]
  },
  {
   "cell_type": "code",
   "execution_count": 11,
   "metadata": {},
   "outputs": [
    {
     "name": "stdout",
     "output_type": "stream",
     "text": [
      "True\n"
     ]
    }
   ],
   "source": [
    "### 9. Palindrome Number\n",
    "class Solution:\n",
    "    def isPalindrome(self, x: int) -> bool:\n",
    "        s = str(x)\n",
    "        if len(s) <= 1:\n",
    "            return True\n",
    "        else:\n",
    "            s_list = list(s)\n",
    "            if s_list == list(reversed(s_list)):\n",
    "                return True\n",
    "            else:\n",
    "                return False\n",
    "        \n",
    "        \n",
    "solution = Solution()\n",
    "print(solution.isPalindrome(121))"
   ]
  },
  {
   "cell_type": "code",
   "execution_count": 12,
   "metadata": {},
   "outputs": [
    {
     "name": "stdout",
     "output_type": "stream",
     "text": [
      "<re.Match object; span=(0, 6), match='aabdfa'>\n",
      "None\n"
     ]
    }
   ],
   "source": [
    "### 10. Regular Expression Matching\n",
    "import re\n",
    "\n",
    "class Solution:\n",
    "    def isMatch(self, s: str, p: str) -> bool:\n",
    "        p = \"^{}$\".format(p)\n",
    "        res = re.match(p, s)\n",
    "        print(res)\n",
    "\n",
    "solution = Solution()\n",
    "print(solution.isMatch(\"aabdfa\", \"a.*a\"))"
   ]
  },
  {
   "cell_type": "code",
   "execution_count": 13,
   "metadata": {},
   "outputs": [
    {
     "name": "stdout",
     "output_type": "stream",
     "text": [
      "False\n"
     ]
    }
   ],
   "source": [
    "### 10. Regular Expression Matching\n",
    "class Solution:\n",
    "    def isMatch(self, s: str, p: str) -> bool:\n",
    "        # when pattern(p) is \"\", check with string(s)\n",
    "        if not p:\n",
    "            return s == p\n",
    "        # when the last char of pattern(p) is *\n",
    "        if p[-1] == \"*\":\n",
    "            # *=0,the char before * is repeated 0 times\n",
    "            if self.isMatch(s, p[: -2]):\n",
    "                return True\n",
    "            \n",
    "            # when string(s) is \"\" and pattern(p) has chars\n",
    "            if not s:\n",
    "                return False\n",
    "            \n",
    "            # delete once repeated times\n",
    "            if p[-2] == \".\" or p[-2] == s[-1]:\n",
    "                return self.isMatch(s[: -1], p)\n",
    "\n",
    "        # when string(s) is \"\" and pattern(p) has chars\n",
    "        if not s:\n",
    "            return False\n",
    "\n",
    "        # delete last repeated cher\n",
    "        if p[-1] == \".\" or p[-1] == s[-1]:\n",
    "            return self.isMatch(s[: -1], p[: -1])\n",
    "\n",
    "        \n",
    "        \n",
    "        \n",
    "        \n",
    "solution = Solution()\n",
    "print(solution.isMatch(\"a\", \"ab*a\"))"
   ]
  },
  {
   "cell_type": "code",
   "execution_count": null,
   "metadata": {},
   "outputs": [],
   "source": []
  },
  {
   "cell_type": "code",
   "execution_count": null,
   "metadata": {},
   "outputs": [],
   "source": []
  }
 ],
 "metadata": {
  "kernelspec": {
   "display_name": "teiVenv",
   "language": "python",
   "name": "teivenv"
  },
  "language_info": {
   "codemirror_mode": {
    "name": "ipython",
    "version": 3
   },
   "file_extension": ".py",
   "mimetype": "text/x-python",
   "name": "python",
   "nbconvert_exporter": "python",
   "pygments_lexer": "ipython3",
   "version": "3.8.5"
  }
 },
 "nbformat": 4,
 "nbformat_minor": 4
}
