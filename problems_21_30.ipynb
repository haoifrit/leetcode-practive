{
 "cells": [
  {
   "cell_type": "code",
   "execution_count": 11,
   "metadata": {},
   "outputs": [
    {
     "name": "stdout",
     "output_type": "stream",
     "text": [
      "[1, 2, 4] [1, 3, 4]\n",
      "[4, 4, 3, 2, 1, 1]\n",
      "None\n"
     ]
    }
   ],
   "source": [
    "### 21. Merge Two Sorted Lists\n",
    "# Definition for singly-linked list.\n",
    "class ListNode:\n",
    "    def __init__(self, val=0, next=None):\n",
    "        self.val = val\n",
    "        self.next = next\n",
    "class Solution:\n",
    "    def mergeTwoLists(self, l1: ListNode, l2: ListNode) -> ListNode:\n",
    "        list1 = []\n",
    "        if l1:\n",
    "            while l1.next:\n",
    "                list1.append(l1.val)\n",
    "                l1 = l1.next\n",
    "            list1.append(l1.val)\n",
    "\n",
    "        list2 = []\n",
    "        if l2:\n",
    "            while l2.next:\n",
    "                list2.append(l2.val)\n",
    "                l2 = l2.next\n",
    "            list2.append(l2.val)\n",
    "\n",
    "        list1.extend(list2)\n",
    "        list1.sort(reverse=True)\n",
    "        \n",
    "        res = None\n",
    "        for i in list1:\n",
    "            res = ListNode(i, res)\n",
    "        \n",
    "        return res\n",
    "\n",
    "\n",
    "\n",
    "solution = Solution()\n",
    "l1 = [1,2,4]\n",
    "l2 = [1,3,4]\n",
    "\n",
    "n1 = None\n",
    "n2 = None\n",
    "\n",
    "l1.reverse()\n",
    "l2.reverse()\n",
    "\n",
    "for i in l1:\n",
    "    n1 = ListNode(i, n1)\n",
    "for i in l2:\n",
    "    n2 = ListNode(i, n2)\n",
    "\n",
    "print(solution.mergeTwoLists(n1, n2))"
   ]
  },
  {
   "cell_type": "code",
   "execution_count": 26,
   "metadata": {
    "scrolled": true
   },
   "outputs": [
    {
     "name": "stdout",
     "output_type": "stream",
     "text": [
      "['((()))', '(()())', '(())()', '()(())', '()()()']\n"
     ]
    }
   ],
   "source": [
    "### 22. Generate Parentheses\n",
    "class Solution:\n",
    "    def generateParenthesis(self, n: int):\n",
    "\n",
    "        self.res = []\n",
    "        self.n = n\n",
    "        \n",
    "        # 递归\n",
    "        self.loops(0, 0, \"\")\n",
    "        \n",
    "        return self.res\n",
    "    \n",
    "    def loops(self, l, r, restr):\n",
    "        \n",
    "        if r == self.n:\n",
    "            self.res.append(restr)\n",
    "            return\n",
    "        \n",
    "        if l == r:\n",
    "            restr += \"(\"\n",
    "            l += 1\n",
    "            self.loops(l, r, restr)\n",
    "        else:\n",
    "            if l < self.n:\n",
    "                self.loops(l + 1, r, restr + \"(\")\n",
    "            if r < self.n:\n",
    "                self.loops(l, r + 1, restr + \")\")\n",
    "\n",
    "solution = Solution()\n",
    "print(solution.generateParenthesis(3))"
   ]
  },
  {
   "cell_type": "code",
   "execution_count": 28,
   "metadata": {},
   "outputs": [
    {
     "name": "stdout",
     "output_type": "stream",
     "text": [
      "[1, 2, 4, 1, 3, 4]\n",
      "<__main__.ListNode object at 0x7faab896eca0>\n"
     ]
    }
   ],
   "source": [
    "### 23. Merge k Sorted Lists\n",
    "# Definition for singly-linked list.\n",
    "class ListNode:\n",
    "    def __init__(self, val=0, next=None):\n",
    "        self.val = val\n",
    "        self.next = next\n",
    "class Solution:\n",
    "    def mergeKLists(self, lists):\n",
    "        main_list = []\n",
    "        for l in lists:\n",
    "            if not l:\n",
    "                continue\n",
    "            \n",
    "            while l.next:\n",
    "                main_list.append(l.val)\n",
    "                l = l.next\n",
    "            main_list.append(l.val)\n",
    "        print(main_list)\n",
    "\n",
    "        main_list.sort(reverse=True)\n",
    "        \n",
    "        res = None\n",
    "        for i in main_list:\n",
    "            res = ListNode(i, res)\n",
    "        \n",
    "        return res\n",
    "\n",
    "\n",
    "\n",
    "solution = Solution()\n",
    "l1 = [1,2,4]\n",
    "l2 = [1,3,4]\n",
    "\n",
    "n1 = None\n",
    "n2 = None\n",
    "\n",
    "l1.reverse()\n",
    "l2.reverse()\n",
    "\n",
    "for i in l1:\n",
    "    n1 = ListNode(i, n1)\n",
    "for i in l2:\n",
    "    n2 = ListNode(i, n2)\n",
    "\n",
    "print(solution.mergeKLists([n1, n2]))\n"
   ]
  },
  {
   "cell_type": "code",
   "execution_count": null,
   "metadata": {},
   "outputs": [],
   "source": []
  },
  {
   "cell_type": "code",
   "execution_count": null,
   "metadata": {},
   "outputs": [],
   "source": []
  },
  {
   "cell_type": "code",
   "execution_count": null,
   "metadata": {},
   "outputs": [],
   "source": []
  },
  {
   "cell_type": "code",
   "execution_count": null,
   "metadata": {},
   "outputs": [],
   "source": []
  },
  {
   "cell_type": "code",
   "execution_count": null,
   "metadata": {},
   "outputs": [],
   "source": []
  },
  {
   "cell_type": "code",
   "execution_count": null,
   "metadata": {},
   "outputs": [],
   "source": []
  },
  {
   "cell_type": "code",
   "execution_count": null,
   "metadata": {},
   "outputs": [],
   "source": []
  },
  {
   "cell_type": "code",
   "execution_count": null,
   "metadata": {},
   "outputs": [],
   "source": []
  },
  {
   "cell_type": "code",
   "execution_count": null,
   "metadata": {},
   "outputs": [],
   "source": []
  },
  {
   "cell_type": "code",
   "execution_count": null,
   "metadata": {},
   "outputs": [],
   "source": []
  }
 ],
 "metadata": {
  "kernelspec": {
   "display_name": "teiVenv",
   "language": "python",
   "name": "teivenv"
  },
  "language_info": {
   "codemirror_mode": {
    "name": "ipython",
    "version": 3
   },
   "file_extension": ".py",
   "mimetype": "text/x-python",
   "name": "python",
   "nbconvert_exporter": "python",
   "pygments_lexer": "ipython3",
   "version": "3.8.5"
  }
 },
 "nbformat": 4,
 "nbformat_minor": 4
}
