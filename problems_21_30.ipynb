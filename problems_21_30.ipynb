{
 "cells": [
  {
   "cell_type": "code",
   "execution_count": 11,
   "metadata": {},
   "outputs": [
    {
     "name": "stdout",
     "output_type": "stream",
     "text": [
      "[1, 2, 4] [1, 3, 4]\n",
      "[4, 4, 3, 2, 1, 1]\n",
      "None\n"
     ]
    }
   ],
   "source": [
    "### 21. Merge Two Sorted Lists\n",
    "# Definition for singly-linked list.\n",
    "class ListNode:\n",
    "    def __init__(self, val=0, next=None):\n",
    "        self.val = val\n",
    "        self.next = next\n",
    "class Solution:\n",
    "    def mergeTwoLists(self, l1: ListNode, l2: ListNode) -> ListNode:\n",
    "        list1 = []\n",
    "        if l1:\n",
    "            while l1.next:\n",
    "                list1.append(l1.val)\n",
    "                l1 = l1.next\n",
    "            list1.append(l1.val)\n",
    "\n",
    "        list2 = []\n",
    "        if l2:\n",
    "            while l2.next:\n",
    "                list2.append(l2.val)\n",
    "                l2 = l2.next\n",
    "            list2.append(l2.val)\n",
    "\n",
    "        list1.extend(list2)\n",
    "        list1.sort(reverse=True)\n",
    "        \n",
    "        res = None\n",
    "        for i in list1:\n",
    "            res = ListNode(i, res)\n",
    "        \n",
    "        return res\n",
    "\n",
    "\n",
    "\n",
    "solution = Solution()\n",
    "l1 = [1,2,4]\n",
    "l2 = [1,3,4]\n",
    "\n",
    "n1 = None\n",
    "n2 = None\n",
    "\n",
    "l1.reverse()\n",
    "l2.reverse()\n",
    "\n",
    "for i in l1:\n",
    "    n1 = ListNode(i, n1)\n",
    "for i in l2:\n",
    "    n2 = ListNode(i, n2)\n",
    "\n",
    "print(solution.mergeTwoLists(n1, n2))"
   ]
  },
  {
   "cell_type": "code",
   "execution_count": 26,
   "metadata": {
    "scrolled": true
   },
   "outputs": [
    {
     "name": "stdout",
     "output_type": "stream",
     "text": [
      "['((()))', '(()())', '(())()', '()(())', '()()()']\n"
     ]
    }
   ],
   "source": [
    "### 22. Generate Parentheses\n",
    "class Solution:\n",
    "    def generateParenthesis(self, n: int):\n",
    "\n",
    "        self.res = []\n",
    "        self.n = n\n",
    "        \n",
    "        # 递归\n",
    "        self.loops(0, 0, \"\")\n",
    "        \n",
    "        return self.res\n",
    "    \n",
    "    def loops(self, l, r, restr):\n",
    "        \n",
    "        if r == self.n:\n",
    "            self.res.append(restr)\n",
    "            return\n",
    "        \n",
    "        if l == r:\n",
    "            restr += \"(\"\n",
    "            l += 1\n",
    "            self.loops(l, r, restr)\n",
    "        else:\n",
    "            if l < self.n:\n",
    "                self.loops(l + 1, r, restr + \"(\")\n",
    "            if r < self.n:\n",
    "                self.loops(l, r + 1, restr + \")\")\n",
    "\n",
    "solution = Solution()\n",
    "print(solution.generateParenthesis(3))"
   ]
  },
  {
   "cell_type": "code",
   "execution_count": 28,
   "metadata": {},
   "outputs": [
    {
     "name": "stdout",
     "output_type": "stream",
     "text": [
      "[1, 2, 4, 1, 3, 4]\n",
      "<__main__.ListNode object at 0x7faab896eca0>\n"
     ]
    }
   ],
   "source": [
    "### 23. Merge k Sorted Lists\n",
    "# Definition for singly-linked list.\n",
    "class ListNode:\n",
    "    def __init__(self, val=0, next=None):\n",
    "        self.val = val\n",
    "        self.next = next\n",
    "class Solution:\n",
    "    def mergeKLists(self, lists):\n",
    "        main_list = []\n",
    "        for l in lists:\n",
    "            if not l:\n",
    "                continue\n",
    "            \n",
    "            while l.next:\n",
    "                main_list.append(l.val)\n",
    "                l = l.next\n",
    "            main_list.append(l.val)\n",
    "        print(main_list)\n",
    "\n",
    "        main_list.sort(reverse=True)\n",
    "        \n",
    "        res = None\n",
    "        for i in main_list:\n",
    "            res = ListNode(i, res)\n",
    "        \n",
    "        return res\n",
    "\n",
    "\n",
    "\n",
    "solution = Solution()\n",
    "l1 = [1,2,4]\n",
    "l2 = [1,3,4]\n",
    "\n",
    "n1 = None\n",
    "n2 = None\n",
    "\n",
    "l1.reverse()\n",
    "l2.reverse()\n",
    "\n",
    "for i in l1:\n",
    "    n1 = ListNode(i, n1)\n",
    "for i in l2:\n",
    "    n2 = ListNode(i, n2)\n",
    "\n",
    "print(solution.mergeKLists([n1, n2]))\n"
   ]
  },
  {
   "cell_type": "code",
   "execution_count": 10,
   "metadata": {},
   "outputs": [
    {
     "name": "stdout",
     "output_type": "stream",
     "text": [
      "<__main__.ListNode object at 0x7f13586eb700>\n"
     ]
    }
   ],
   "source": [
    "### 24. Swap Nodes in Pairs\n",
    "# Definition for singly-linked list.\n",
    "class ListNode:\n",
    "    def __init__(self, val=0, next=None):\n",
    "        self.val = val\n",
    "        self.next = next\n",
    "class Solution:\n",
    "    def swapPairs(self, head: ListNode) -> ListNode:\n",
    "        if not head:\n",
    "            return head\n",
    "        nums = []\n",
    "        while head.next:\n",
    "            nums.append(head.val)\n",
    "            head = head.next\n",
    "        nums.append(head.val)\n",
    "        \n",
    "        for i in range(1, len(nums), 2):\n",
    "            # 取出数字\n",
    "            temp = nums.pop(i)\n",
    "            # 将数字插入前一个数字之前\n",
    "            nums.insert(i-1, temp)\n",
    "        \n",
    "        nums.reverse()\n",
    "        \n",
    "        res = None\n",
    "        for i in nums:\n",
    "            res = ListNode(i, res)\n",
    "        \n",
    "        return res\n",
    "\n",
    "\n",
    "\n",
    "solution = Solution()\n",
    "l1 = [1,2,3,4]\n",
    "\n",
    "n1 = None\n",
    "\n",
    "l1.reverse()\n",
    "\n",
    "for i in l1:\n",
    "    n1 = ListNode(i, n1)\n",
    "\n",
    "print(solution.swapPairs(n1))"
   ]
  },
  {
   "cell_type": "code",
   "execution_count": 35,
   "metadata": {},
   "outputs": [
    {
     "name": "stdout",
     "output_type": "stream",
     "text": [
      "1\n",
      "[4, 1]\n",
      "<__main__.ListNode object at 0x7f13587121f0>\n"
     ]
    }
   ],
   "source": [
    "### 25. Reverse Nodes in k-Group\n",
    "# Definition for singly-linked list.\n",
    "class ListNode:\n",
    "    def __init__(self, val=0, next=None):\n",
    "        self.val = val\n",
    "        self.next = next\n",
    "class Solution:\n",
    "    def reverseKGroup(self, head: ListNode, k) -> ListNode:\n",
    "        if not head or k == 1:\n",
    "            return head\n",
    "        nums = []\n",
    "        while head.next:\n",
    "            nums.append(head.val)\n",
    "            head = head.next\n",
    "        nums.append(head.val)\n",
    "        \n",
    "        reverse_nums = []\n",
    "        for i in range(k-1, len(nums), k):\n",
    "            print(i)\n",
    "            # 每k个数据,倒序存入list中\n",
    "            reverse_nums.extend(list(reversed(nums[i+1-k: i+1])))\n",
    "\n",
    "        # nums值数量更多\n",
    "        if len(reverse_nums) < len(nums):\n",
    "            reverse_nums.extend(nums[len(reverse_nums):])\n",
    "        print(reverse_nums)\n",
    "        reverse_nums.reverse()\n",
    "        \n",
    "        res = None\n",
    "        for i in reverse_nums:\n",
    "            res = ListNode(i, res)\n",
    "        \n",
    "        return res\n",
    "\n",
    "\n",
    "\n",
    "solution = Solution()\n",
    "l1 = [1,2,3,4]\n",
    "\n",
    "n1 = None\n",
    "\n",
    "l1.reverse()\n",
    "\n",
    "for i in l1:\n",
    "    n1 = ListNode(i, n1)\n",
    "\n",
    "print(solution.reverseKGroup(n1, 2))"
   ]
  },
  {
   "cell_type": "code",
   "execution_count": 48,
   "metadata": {},
   "outputs": [
    {
     "name": "stdout",
     "output_type": "stream",
     "text": [
      "2\n"
     ]
    }
   ],
   "source": [
    "### 26. Remove Duplicates from Sorted Array\n",
    "class Solution:\n",
    "    def removeDuplicates(self, nums):\n",
    "        res = sorted(list(set(nums)))\n",
    "        \n",
    "        for i in range(len(res)):\n",
    "            nums[i] = res[i]\n",
    "        return len(res)\n",
    "        \n",
    "        \n",
    "        \n",
    "solution = Solution()\n",
    "print(solution.removeDuplicates([1,1,2]))"
   ]
  },
  {
   "cell_type": "code",
   "execution_count": 56,
   "metadata": {},
   "outputs": [
    {
     "name": "stdout",
     "output_type": "stream",
     "text": [
      "1\n",
      "[2, 2]\n",
      "2\n"
     ]
    }
   ],
   "source": [
    "### 27. Remove Element\n",
    "class Solution:\n",
    "    def removeElement(self, nums, val: int) -> int:\n",
    "        for i in range(len(nums) - 1, -1, -1):\n",
    "\n",
    "            if nums[i] == val:\n",
    "                nums.pop(i)\n",
    "        \n",
    "        return len(nums)\n",
    "    \n",
    "    def removeElement2(self, nums, val):\n",
    "        nums = [i for i in nums if i != val]\n",
    "        print(nums)\n",
    "        return len(nums)\n",
    "        \n",
    "        \n",
    "        \n",
    "solution = Solution()\n",
    "print(solution.removeElement([1,1,2], 1))\n",
    "print(solution.removeElement2([3,2,2,3], 3))"
   ]
  },
  {
   "cell_type": "code",
   "execution_count": 64,
   "metadata": {},
   "outputs": [
    {
     "name": "stdout",
     "output_type": "stream",
     "text": [
      "2\n"
     ]
    }
   ],
   "source": [
    "### 28. Implement strStr()\n",
    "class Solution:\n",
    "    def strStr(self, haystack: str, needle: str) -> int:\n",
    "        if needle == \"\":\n",
    "            return 0\n",
    "        \n",
    "        needle_len = len(needle)\n",
    "        if needle_len > len(haystack):\n",
    "            return -1\n",
    "        \n",
    "        for i in range(len(haystack) - needle_len + 1):\n",
    "            \n",
    "            if haystack[i:i+needle_len] == needle:\n",
    "                return i\n",
    "        \n",
    "        return -1\n",
    "        \n",
    "        \n",
    "        \n",
    "        \n",
    "solution = Solution()\n",
    "print(solution.strStr(\"aagfree\", \"gfre\"))"
   ]
  },
  {
   "cell_type": "code",
   "execution_count": 36,
   "metadata": {},
   "outputs": [
    {
     "name": "stdout",
     "output_type": "stream",
     "text": [
      "16 3 14 16\n",
      "4 3 2 20\n",
      "20\n"
     ]
    }
   ],
   "source": [
    "### 29. Divide Two Integers\n",
    "class Solution:\n",
    "    def divide(self, dividend: int, divisor: int) -> int:\n",
    "        sign = \"+\"\n",
    "        if (dividend < 0 and divisor > 0) or dividend > 0 and divisor < 0:\n",
    "            sign = \"-\"\n",
    "        \n",
    "        if dividend < 0:\n",
    "            dividend = 0 - dividend\n",
    "        if divisor < 0:\n",
    "            divisor = 0 - divisor\n",
    "            \n",
    "        if dividend < divisor:\n",
    "            return 0\n",
    "        \n",
    "        if divisor == 1:\n",
    "            count = dividend\n",
    "        else:\n",
    "            # count倍增次数\n",
    "            count = 0\n",
    "            # sums初始化为除数\n",
    "            sums = divisor\n",
    "            # remain是余数,初始化为被除数\n",
    "            remain = dividend\n",
    "            # \n",
    "            while remain >= sums:\n",
    "                sub_count = 1\n",
    "                # 倍增存在\n",
    "                while sums + sums < remain:\n",
    "                    sums += sums\n",
    "                    sub_count += sub_count\n",
    "                # 计算余数\n",
    "                remain = remain - sums\n",
    "                # 重新设置除数\n",
    "                sums = divisor\n",
    "                # 倍增次数保存\n",
    "                count += sub_count\n",
    "        \n",
    "        res = count\n",
    "        if sign == \"-\":\n",
    "            res = 0 - res\n",
    "            if res < -2147483648:\n",
    "                res = -2147483648\n",
    "        else:\n",
    "            if res >= 2147483648:\n",
    "                res = 2147483647\n",
    "        return res\n",
    "        \n",
    "        \n",
    "        \n",
    "        \n",
    "solution = Solution()\n",
    "print(solution.divide(62, 3))"
   ]
  },
  {
   "cell_type": "code",
   "execution_count": 50,
   "metadata": {},
   "outputs": [
    {
     "name": "stdout",
     "output_type": "stream",
     "text": [
      "[0, 9]\n"
     ]
    }
   ],
   "source": [
    "### 30. Substring with Concatenation of All Words\n",
    "class Solution:\n",
    "    def findSubstring(self, s: str, words):\n",
    "        s_len = len(s)\n",
    "        list_len = len(words)\n",
    "        word_len = len(words[0])\n",
    "        max_len = list_len * word_len\n",
    "        \n",
    "        if s_len < max_len:\n",
    "            return []\n",
    "        \n",
    "        # 单词去除重复\n",
    "        words_set_list = list(set(words))\n",
    "        # 单词初始化dict\n",
    "        words_zero = {word: 0 for word in words}\n",
    "        # 单词出现次数dict\n",
    "        words_times = words_zero.copy()\n",
    "        for word in words:\n",
    "            words_times[word] += 1\n",
    "        \n",
    "        # 结果\n",
    "        res = []\n",
    "        # 遍历总长度的字符串\n",
    "        for i in range(s_len - max_len + 1):\n",
    "            words_dict = words_zero.copy()\n",
    "            flag = True\n",
    "            for k in range(i, i + max_len, word_len):\n",
    "                temp_word = s[k: k+word_len]\n",
    "                \n",
    "                # 单词组中没有这个单词,结束\n",
    "                if temp_word not in words_dict.keys():\n",
    "                    flag = False\n",
    "                    break\n",
    "                \n",
    "                # 单词出现次数加一\n",
    "                words_dict[temp_word] += 1\n",
    "                # 文中单词出现次数,大于单词组中的次数,结束\n",
    "                if words_dict[temp_word] > words_times[temp_word]:\n",
    "                    flag = False\n",
    "                    break\n",
    "\n",
    "            # 如果没有中途跳出,添加下标\n",
    "            if flag: res.append(i)\n",
    "        \n",
    "        return res\n",
    "\n",
    "        \n",
    "solution = Solution()\n",
    "print(solution.findSubstring(\"barfoothefoobarman\", [\"foo\",\"bar\"]))"
   ]
  },
  {
   "cell_type": "code",
   "execution_count": null,
   "metadata": {},
   "outputs": [],
   "source": []
  },
  {
   "cell_type": "code",
   "execution_count": null,
   "metadata": {},
   "outputs": [],
   "source": []
  },
  {
   "cell_type": "code",
   "execution_count": null,
   "metadata": {},
   "outputs": [],
   "source": []
  }
 ],
 "metadata": {
  "kernelspec": {
   "display_name": "teiVenv",
   "language": "python",
   "name": "teivenv"
  },
  "language_info": {
   "codemirror_mode": {
    "name": "ipython",
    "version": 3
   },
   "file_extension": ".py",
   "mimetype": "text/x-python",
   "name": "python",
   "nbconvert_exporter": "python",
   "pygments_lexer": "ipython3",
   "version": "3.8.5"
  }
 },
 "nbformat": 4,
 "nbformat_minor": 4
}
