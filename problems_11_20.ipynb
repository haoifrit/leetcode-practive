{
 "cells": [
  {
   "cell_type": "code",
   "execution_count": 1,
   "metadata": {},
   "outputs": [
    {
     "name": "stdout",
     "output_type": "stream",
     "text": [
      "49\n"
     ]
    }
   ],
   "source": [
    "### 11. Container With Most Water\n",
    "class Solution:\n",
    "    def maxArea(self, height) -> int:\n",
    "        ### Two Pointer Approach\n",
    "        # 最大面积\n",
    "        maxarea = 0\n",
    "        # 左指针(左下标)\n",
    "        left = 0\n",
    "        # 右指针(右下标)\n",
    "        right = len(height) - 1\n",
    "        # 左指针不能大于等于右指针\n",
    "        while left < right:\n",
    "            # 计算当前面积\n",
    "            area = min(height[left], height[right]) * (right - left)\n",
    "            # 比较最大面积\n",
    "            maxarea = max(maxarea, area)\n",
    "            # 左边的高度大于右边的时候\n",
    "            if height[left] > height[right]:\n",
    "                # 右指针左移一位\n",
    "                right -= 1\n",
    "            else:\n",
    "                # 左指针右移一位\n",
    "                left += 1\n",
    "        \n",
    "        return maxarea\n",
    "\n",
    "\n",
    "solution = Solution()\n",
    "print(solution.maxArea([1,8,6,2,5,4,8,3,7]))"
   ]
  },
  {
   "cell_type": "code",
   "execution_count": 2,
   "metadata": {},
   "outputs": [
    {
     "name": "stdout",
     "output_type": "stream",
     "text": [
      "MCMXCIV\n"
     ]
    }
   ],
   "source": [
    "### 12. Integer to Roman\n",
    "class Solution:\n",
    "        \n",
    "    def intToRoman(self, num: int) -> str:\n",
    "        divisors = [1000, 100, 10, 1]\n",
    "        values = [1, 5, 10, 50, 100, 500, 1000]\n",
    "        symbols = [\"I\", \"V\", \"X\", \"L\", \"C\", \"D\", \"M\"]\n",
    "        res = \"\"\n",
    "        for divisor in divisors:\n",
    "            # number of each digit\n",
    "            t = int(num / divisor)\n",
    "            # difference\n",
    "            num = num - t * divisor\n",
    "            # index of roman array\n",
    "            idx = values.index(divisor)\n",
    "            if t == 0:\n",
    "                continue\n",
    "            elif t < 4:\n",
    "                res += t * symbols[idx]\n",
    "            elif t == 4:\n",
    "                res += symbols[idx] +  symbols[idx + 1]\n",
    "            elif t < 9:\n",
    "                res += symbols[idx + 1] +  symbols[idx] * (t - 5)\n",
    "            elif t == 9:\n",
    "                res += symbols[idx] +  symbols[idx + 2]\n",
    "        return res\n",
    "\n",
    "solution = Solution()\n",
    "print(solution.intToRoman(1994))"
   ]
  },
  {
   "cell_type": "code",
   "execution_count": 3,
   "metadata": {},
   "outputs": [
    {
     "name": "stdout",
     "output_type": "stream",
     "text": [
      "1994\n"
     ]
    }
   ],
   "source": [
    "### 13. Roman to Integer\n",
    "class Solution:\n",
    "    def romanToInt(self, s: str) -> int:\n",
    "        romans = {\n",
    "            \"I\": 1,\n",
    "            \"V\": 5,\n",
    "            \"X\": 10,\n",
    "            \"L\": 50,\n",
    "            \"C\": 100,\n",
    "            \"D\": 500,\n",
    "            \"M\": 1000,\n",
    "        }\n",
    "        # roman to int\n",
    "        v_list = [romans[c] for c in s]\n",
    "        # only one\n",
    "        if len(v_list) == 1:\n",
    "            return v_list[0]\n",
    "        \n",
    "        # the late number\n",
    "        res = v_list[-1]\n",
    "        for i in range(len(v_list) - 1):\n",
    "            # The front number is smaller than the back\n",
    "            # then subtract it\n",
    "            if v_list[i] < v_list[i + 1]:\n",
    "                res -= v_list[i]\n",
    "            else:\n",
    "                res += v_list[i]\n",
    "        \n",
    "        return res\n",
    "\n",
    "solution = Solution()\n",
    "print(solution.romanToInt(\"MCMXCIV\"))"
   ]
  },
  {
   "cell_type": "code",
   "execution_count": 4,
   "metadata": {},
   "outputs": [
    {
     "name": "stdout",
     "output_type": "stream",
     "text": [
      "fl\n"
     ]
    }
   ],
   "source": [
    "### 14. Longest Common Prefix\n",
    "class Solution:\n",
    "    def check(self, strs):\n",
    "        res = \"\"\n",
    "        # 循环每一位\n",
    "        for i in range(200):\n",
    "            # 将第一个字符串定位默认字符串\n",
    "            temp = strs[0]\n",
    "            # 循环数组\n",
    "            for s in strs:\n",
    "                # 位数超过字符串的长度,则返回结果\n",
    "                if i >= len(s):\n",
    "                    return res\n",
    "                # 字符串不匹配,则返回结果\n",
    "                if temp[i] != s[i]:\n",
    "                    return res\n",
    "            # 结果加一\n",
    "            res += temp[i]\n",
    "        return res\n",
    "        \n",
    "    def longestCommonPrefix(self, strs) -> str:\n",
    "        res = self.check(strs)\n",
    "        return res\n",
    "\n",
    "solution = Solution()\n",
    "print(solution.longestCommonPrefix([\"flower\",\"flow\",\"flight\"]))"
   ]
  },
  {
   "cell_type": "code",
   "execution_count": 5,
   "metadata": {},
   "outputs": [
    {
     "name": "stdout",
     "output_type": "stream",
     "text": [
      "[[-1, -1, 2], [-1, 0, 1]]\n"
     ]
    }
   ],
   "source": [
    "### 15. 3Sum\n",
    "class Solution:\n",
    "    def threeSum(self, nums):\n",
    "        if len(nums) < 3:\n",
    "            return []\n",
    "\n",
    "        length = len(nums)\n",
    "        res = []\n",
    "        # 从小到大排序\n",
    "        nums.sort()\n",
    "\n",
    "        for i in range(length - 2):\n",
    "            # nums[i]必须小于零\n",
    "            if nums[i] >= 0:\n",
    "                break\n",
    "            # left从左边开始\n",
    "            left = i + 1\n",
    "            # right从右边开始\n",
    "            right = length - 1\n",
    "            \n",
    "            # 左边的下标要小于右边的下标\n",
    "            while left < right:\n",
    "                # 计算和\n",
    "                sums = nums[i] + nums[left] + nums[right]\n",
    "\n",
    "                # 和大于零\n",
    "                if sums > 0:\n",
    "                    # 右边变小\n",
    "                    right -= 1\n",
    "                # 和小于零\n",
    "                elif sums < 0:\n",
    "                    # 左边变大\n",
    "                    left += 1\n",
    "                else:\n",
    "                    # 和等于零\n",
    "                    temp = [nums[i], nums[left], nums[right]]\n",
    "                    # 不存在的组合保存起来\n",
    "                    if temp not in res:\n",
    "                        res.append(temp)\n",
    "                    # 跳过左边连续相等的数\n",
    "                    while left < right and nums[left] == nums[left+1]:\n",
    "                        left += 1\n",
    "                    # 跳过右边连续相等的数\n",
    "                    while left < right and nums[right] == nums[right-1]:\n",
    "                        right -= 1\n",
    "                    # 左右各移动一位\n",
    "                    left += 1\n",
    "                    right -= 1\n",
    "\n",
    "        return res\n",
    "                    \n",
    "        \n",
    "\n",
    "solution = Solution()\n",
    "print(solution.threeSum([-1,0,1,2,-1,-4]))"
   ]
  },
  {
   "cell_type": "code",
   "execution_count": 20,
   "metadata": {},
   "outputs": [
    {
     "name": "stdout",
     "output_type": "stream",
     "text": [
      "[-3, 0, 1, 2]\n",
      "-2 3\n",
      "-3 0 2 -2\n",
      "-1 2\n",
      "-3 1 2 -1\n",
      "0 1\n",
      "0 1 2 2\n",
      "0\n"
     ]
    }
   ],
   "source": [
    "### 16. 3Sum Closest\n",
    "class Solution:\n",
    "    def threeSumClosest(self, nums, target: int) -> int:\n",
    "        # 从小到大排序\n",
    "        nums.sort()\n",
    "        \n",
    "        length = len(nums)\n",
    "        \n",
    "        res = nums[0] + nums[1] + nums[2]\n",
    "        min_num = abs(res - target)\n",
    "        \n",
    "        for i in range(length - 2):\n",
    "            # left从左边开始\n",
    "            left = i + 1\n",
    "            # right从右边开始\n",
    "            right = length - 1\n",
    "            \n",
    "            # 左边的下标要小于右边的下标\n",
    "            while left < right:\n",
    "                result = nums[i] + nums[left] + nums[right] - target\n",
    "                \n",
    "                if abs(result) < min_num:\n",
    "                    min_num = abs(result)\n",
    "                    res = result + target\n",
    "                \n",
    "                if result > 0:\n",
    "                    right -= 1\n",
    "                elif result < 0:\n",
    "                    left += 1\n",
    "                else:\n",
    "                    return target\n",
    "\n",
    "        return res\n",
    "                \n",
    "                \n",
    "                \n",
    "\n",
    "\n",
    "solution = Solution()\n",
    "print(solution.threeSumClosest([0,2,1,-3], 1))"
   ]
  },
  {
   "cell_type": "code",
   "execution_count": 23,
   "metadata": {},
   "outputs": [
    {
     "name": "stdout",
     "output_type": "stream",
     "text": [
      "['ad', 'ae', 'af', 'bd', 'be', 'bf', 'cd', 'ce', 'cf']\n",
      "None\n"
     ]
    }
   ],
   "source": [
    "### 17. Letter Combinations of a Phone Number\n",
    "class Solution:\n",
    "    def letterCombinations(self, digits):\n",
    "        datas = {\n",
    "            \"2\": [\"a\", \"b\", \"c\"],\n",
    "            \"3\": [\"d\", \"e\", \"f\"],\n",
    "            \"4\": [\"g\", \"h\", \"i\"],\n",
    "            \"5\": [\"j\", \"k\", \"l\"],\n",
    "            \"6\": [\"m\", \"n\", \"o\"],\n",
    "            \"7\": [\"p\", \"q\", \"r\", \"s\"],\n",
    "            \"8\": [\"t\", \"u\", \"v\"],\n",
    "            \"9\": [\"w\", \"x\", \"y\", \"z\"],\n",
    "        }\n",
    "        \n",
    "        self.res = []\n",
    "        \n",
    "        # 遍历输入的字母\n",
    "        for d in digits:\n",
    "            # 处理\n",
    "            self.deal(datas[d])\n",
    "\n",
    "        return self.res\n",
    "        \n",
    "        \n",
    "    def deal(self, letters):\n",
    "        temp = []\n",
    "        # 输出集有数据的情况\n",
    "        if self.res:\n",
    "            # 遍历之前的结果\n",
    "            for c in self.res:\n",
    "                # 遍历字母\n",
    "                for l in letters:\n",
    "                    # 结果拼接\n",
    "                    temp.append(c + l)\n",
    "            # 保存起来\n",
    "            self.res = temp\n",
    "        else:\n",
    "            # 直接赋值\n",
    "            self.res = letters\n",
    "        return\n",
    "        \n",
    "\n",
    "\n",
    "\n",
    "solution = Solution()\n",
    "print(solution.letterCombinations(\"23\"))"
   ]
  },
  {
   "cell_type": "code",
   "execution_count": null,
   "metadata": {},
   "outputs": [],
   "source": []
  },
  {
   "cell_type": "code",
   "execution_count": null,
   "metadata": {},
   "outputs": [],
   "source": []
  },
  {
   "cell_type": "code",
   "execution_count": null,
   "metadata": {},
   "outputs": [],
   "source": []
  },
  {
   "cell_type": "code",
   "execution_count": null,
   "metadata": {},
   "outputs": [],
   "source": []
  },
  {
   "cell_type": "code",
   "execution_count": null,
   "metadata": {},
   "outputs": [],
   "source": []
  },
  {
   "cell_type": "code",
   "execution_count": null,
   "metadata": {},
   "outputs": [],
   "source": []
  },
  {
   "cell_type": "code",
   "execution_count": null,
   "metadata": {},
   "outputs": [],
   "source": []
  },
  {
   "cell_type": "code",
   "execution_count": null,
   "metadata": {},
   "outputs": [],
   "source": []
  }
 ],
 "metadata": {
  "kernelspec": {
   "display_name": "venv",
   "language": "python",
   "name": "venv"
  },
  "language_info": {
   "codemirror_mode": {
    "name": "ipython",
    "version": 3
   },
   "file_extension": ".py",
   "mimetype": "text/x-python",
   "name": "python",
   "nbconvert_exporter": "python",
   "pygments_lexer": "ipython3",
   "version": "3.7.0"
  }
 },
 "nbformat": 4,
 "nbformat_minor": 4
}
