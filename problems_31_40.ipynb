{
 "cells": [
  {
   "cell_type": "code",
   "execution_count": 54,
   "metadata": {},
   "outputs": [
    {
     "name": "stdout",
     "output_type": "stream",
     "text": [
      "[2, 1, 3]\n"
     ]
    }
   ],
   "source": [
    "### 31. Next Permutation\n",
    "class Solution:\n",
    "    def nextPermutation(self, nums):\n",
    "        \"\"\"\n",
    "        Do not return anything, modify nums in-place instead.\n",
    "        \"\"\"\n",
    "        # 长度为1\n",
    "        if len(nums) == 1:\n",
    "            return\n",
    "        \n",
    "        # 数组由大到小排序\n",
    "        temp_nums = nums.copy()\n",
    "        temp_nums.sort(reverse=True)\n",
    "        if temp_nums == nums:\n",
    "            nums.sort()\n",
    "            return\n",
    "        \n",
    "        # 比较\n",
    "        fs = self.get_indexs(nums)\n",
    "        if fs:\n",
    "            # 右边的数取出\n",
    "            temp = nums.pop(fs[\"r\"])\n",
    "            # 插入到左边\n",
    "            nums.insert(fs[\"l\"], temp)\n",
    "            # 排序\n",
    "            self.get_sort(nums, fs[\"l\"])\n",
    "        \n",
    "        return nums\n",
    "\n",
    "        \n",
    "    def get_indexs(self, nums):\n",
    "        # 左边的数从右往左遍历\n",
    "        for i in range(len(nums) - 2, -1, -1):\n",
    "            # 下标位置\n",
    "            l = r = 0\n",
    "            # 数组中最大的值\n",
    "            min_num = max(nums)\n",
    "            # 右边的数从左往右遍历\n",
    "            for k in range(i+1, len(nums)):\n",
    "                # 右边大于左边,右边的数小于最大值\n",
    "                if nums[k] > nums[i] and nums[k] <= min_num:\n",
    "                    min_num = nums[k]\n",
    "                    l = i\n",
    "                    r = k\n",
    "            # 右边的数存在比左边大的时候\n",
    "            if r != 0:\n",
    "                return {\n",
    "                    \"l\": l,\n",
    "                    \"r\": r\n",
    "                }\n",
    "        return {}\n",
    "    \n",
    "    def get_sort(self, nums, index):\n",
    "\n",
    "        if index >= len(nums) - 1:\n",
    "            return\n",
    "        for i in range(index + 1, len(nums)-1):\n",
    "            for k in range(i+1, len(nums)):\n",
    "                if nums[k] < nums[i]:\n",
    "                    temp = nums[k]\n",
    "                    nums[k] = nums[i]\n",
    "                    nums[i] = temp\n",
    "        return\n",
    "\n",
    "        \n",
    "solution = Solution()\n",
    "print(solution.nextPermutation([1,3,2]))\n",
    "# print(solution.nextPermutation([4,2,0,2,3,2,0]))"
   ]
  },
  {
   "cell_type": "code",
   "execution_count": null,
   "metadata": {},
   "outputs": [],
   "source": []
  }
 ],
 "metadata": {
  "kernelspec": {
   "display_name": "teiVenv",
   "language": "python",
   "name": "teivenv"
  },
  "language_info": {
   "codemirror_mode": {
    "name": "ipython",
    "version": 3
   },
   "file_extension": ".py",
   "mimetype": "text/x-python",
   "name": "python",
   "nbconvert_exporter": "python",
   "pygments_lexer": "ipython3",
   "version": "3.8.5"
  }
 },
 "nbformat": 4,
 "nbformat_minor": 4
}
